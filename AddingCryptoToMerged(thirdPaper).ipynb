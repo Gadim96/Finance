{
 "cells": [
  {
   "cell_type": "code",
   "execution_count": 2,
   "id": "e26c3d96",
   "metadata": {},
   "outputs": [],
   "source": [
    "import pandas as pd\n",
    "import os\n",
    "from datetime import datetime"
   ]
  },
  {
   "cell_type": "code",
   "execution_count": 6,
   "id": "bffe816e",
   "metadata": {},
   "outputs": [],
   "source": [
    "\n",
    "# Load the existing merged dataframe\n",
    "merged_df = pd.read_csv('/Users/gadimg/Library/Mobile Documents/com~apple~CloudDocs/PhD dis/third/Data/Merged_data/Full_with_monthly_no_other_crypto.csv', parse_dates=['Date'], dayfirst=True)\n",
    "\n",
    "# Directory containing the new CSV files\n",
    "directory = '/Users/gadimg/Library/Mobile Documents/com~apple~CloudDocs/PhD dis/third/Data/Other_major_crypto'\n",
    "\n",
    "# Loop through each CSV file in the directory\n",
    "for filename in os.listdir(directory):\n",
    "    if filename.endswith('.csv'):\n",
    "        # Load the current CSV\n",
    "        df = pd.read_csv(os.path.join(directory, filename), parse_dates=['Date'], dayfirst=True)\n",
    "        \n",
    "        # Filter out dates beyond the specified range\n",
    "        start_date = pd.to_datetime('20/08/2020', dayfirst=True)\n",
    "        end_date = pd.to_datetime('20/10/2023', dayfirst=True)\n",
    "        df = df[(df['Date'] >= start_date) & (df['Date'] <= end_date)]\n",
    "\n",
    "\n",
    "        # Make sure the dataframe has no missing dates\n",
    "        all_dates = pd.date_range(start=start_date, end=end_date, freq='D')\n",
    "        df = df.set_index('Date').reindex(all_dates).reset_index().rename(columns={'index': 'Date'})\n",
    "        \n",
    "        # Interpolate missing values\n",
    "        df.interpolate(method='linear', inplace=True)\n",
    "        \n",
    "        # Take 'Close' and 'Volume' columns and rename them to avoid column name clashes\n",
    "        close_col = f\"{filename[:-4]}_Close\"  # Assuming filenames don't have dots except for '.csv'\n",
    "        volume_col = f\"{filename[:-4]}_Volume\"\n",
    "        df = df.rename(columns={'Close': close_col, 'Volume': volume_col})\n",
    "        \n",
    "        # Drop other columns\n",
    "        df = df[['Date', close_col, volume_col]]\n",
    "        \n",
    "        # Merge with the main dataframe\n",
    "        merged_df = pd.merge(merged_df, df, on='Date', how='left')\n",
    "\n",
    "# Save the updated merged dataframe\n",
    "merged_df.to_csv('/Users/gadimg/Library/Mobile Documents/com~apple~CloudDocs/PhD dis/third/Data/Merged_data/updated_merged.csv', index=False)\n"
   ]
  },
  {
   "cell_type": "code",
   "execution_count": null,
   "id": "7f549ff8",
   "metadata": {},
   "outputs": [],
   "source": []
  }
 ],
 "metadata": {
  "kernelspec": {
   "display_name": "Python 3",
   "language": "python",
   "name": "python3"
  },
  "language_info": {
   "codemirror_mode": {
    "name": "ipython",
    "version": 3
   },
   "file_extension": ".py",
   "mimetype": "text/x-python",
   "name": "python",
   "nbconvert_exporter": "python",
   "pygments_lexer": "ipython3",
   "version": "3.8.8"
  }
 },
 "nbformat": 4,
 "nbformat_minor": 5
}
