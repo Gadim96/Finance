{
 "cells": [
  {
   "cell_type": "code",
   "execution_count": 1,
   "id": "ee690089",
   "metadata": {},
   "outputs": [],
   "source": [
    "import pandas as pd\n",
    "import numpy as np"
   ]
  },
  {
   "cell_type": "code",
   "execution_count": 2,
   "id": "4de5c9e5",
   "metadata": {},
   "outputs": [],
   "source": [
    "# Read the CSV files\n",
    "algoR = pd.read_csv('/Users/gadimg/Library/Mobile Documents/com~apple~CloudDocs/PhD dis/second/Results/AlgoGrobys.csv')\n",
    "cryptoR = pd.read_csv('/Users/gadimg/Library/Mobile Documents/com~apple~CloudDocs/PhD dis/second/Results/CryptoGrobys.csv')\n",
    "tokenR = pd.read_csv('/Users/gadimg/Library/Mobile Documents/com~apple~CloudDocs/PhD dis/second/Results/TokenGrobys.csv')\n",
    "algo = pd.read_csv('/Users/gadimg/Library/Mobile Documents/com~apple~CloudDocs/PhD dis/second/Results/Algo.csv')\n",
    "crypto = pd.read_csv('/Users/gadimg/Library/Mobile Documents/com~apple~CloudDocs/PhD dis/second/Results/Crypto.csv')\n",
    "token = pd.read_csv('/Users/gadimg/Library/Mobile Documents/com~apple~CloudDocs/PhD dis/second/Results/Token.csv')\n",
    "\n",
    "# Creating the groups\n",
    "alphaAlgos = algo['alpha']\n",
    "alphaRAlgos = algoR['alpha']\n",
    "alphaCrypto = crypto['alpha']\n",
    "alphaRCrypto = cryptoR['alpha']\n",
    "alphaToken = token['alpha']\n",
    "alphaRToken = tokenR['alpha']\n"
   ]
  },
  {
   "cell_type": "code",
   "execution_count": 12,
   "id": "3dbf223f",
   "metadata": {},
   "outputs": [
    {
     "data": {
      "text/plain": [
       "0    2.044955\n",
       "1    2.423372\n",
       "2    3.125186\n",
       "3    2.327611\n",
       "4    2.345897\n",
       "5    2.978546\n",
       "6    2.654186\n",
       "7    1.000000\n",
       "8    2.609849\n",
       "9    1.000000\n",
       "Name: alpha, dtype: float64"
      ]
     },
     "execution_count": 12,
     "metadata": {},
     "output_type": "execute_result"
    }
   ],
   "source": [
    "alphaAlgos"
   ]
  },
  {
   "cell_type": "code",
   "execution_count": 3,
   "id": "e63c786f",
   "metadata": {},
   "outputs": [
    {
     "name": "stdout",
     "output_type": "stream",
     "text": [
      "Kruskal-Wallis test statistic: 3.870429389935885\n",
      "p-value: 0.14439326498807964\n"
     ]
    }
   ],
   "source": [
    "from scipy import stats\n",
    "\n",
    "# Combine the alpha values into a list\n",
    "alpha_values = [alphaAlgos, alphaCrypto, alphaToken]\n",
    "\n",
    "# Perform Kruskal-Wallis test\n",
    "statistic, p_value = stats.kruskal(*alpha_values)\n",
    "\n",
    "# Print the results\n",
    "print(\"Kruskal-Wallis test statistic:\", statistic)\n",
    "print(\"p-value:\", p_value)\n"
   ]
  },
  {
   "cell_type": "code",
   "execution_count": 4,
   "id": "cf717a02",
   "metadata": {},
   "outputs": [],
   "source": [
    "# Combine the data frames into a list\n",
    "#groups = [algoR, cryptoR, tokenR]\n",
    "\n",
    "# Create a logical index for columns to be deleted\n",
    "#columnIndex = 4  # Update with the desired column index (0 to 4)\n",
    "#for i in range(len(groups)):\n",
    "    # Get the specified column\n",
    " #   column = groups[i].iloc[:, columnIndex]\n",
    "    \n",
    "    # Find the rows with NaN values or values less than 0.1 in the column\n",
    "  #  rowsToDelete = column.isnull() | (column < 0.1)\n",
    "    \n",
    "    # Delete the rows from the group\n",
    "   # groups[i] = groups[i][~rowsToDelete]\n",
    "\n",
    "# Extract the 'alpha' column from each group\n",
    "alphaRAlgos = algoR['alpha']\n",
    "alphaRCrypto = cryptoR['alpha']\n",
    "alphaRToken = tokenR['alpha']\n",
    "alphaRAlgos.dropna(inplace=True)\n",
    "alphaRCrypto.dropna(inplace=True)"
   ]
  },
  {
   "cell_type": "code",
   "execution_count": 5,
   "id": "7e7ecdb7",
   "metadata": {},
   "outputs": [
    {
     "name": "stdout",
     "output_type": "stream",
     "text": [
      "Kruskal-Wallis test statistic: 7.5392792325641835\n",
      "p-value: 0.023060372372638097\n"
     ]
    }
   ],
   "source": [
    "# Combine the alpha values into a list\n",
    "alpha_valuesR = [alphaRAlgos, alphaRCrypto, alphaRToken]\n",
    "\n",
    "# Perform Kruskal-Wallis test\n",
    "statistic, p_value = stats.kruskal(*alpha_valuesR)\n",
    "\n",
    "# Print the results\n",
    "print(\"Kruskal-Wallis test statistic:\", statistic)\n",
    "print(\"p-value:\", p_value)\n"
   ]
  },
  {
   "cell_type": "code",
   "execution_count": 166,
   "id": "a1dcf691",
   "metadata": {},
   "outputs": [
    {
     "data": {
      "text/plain": [
       "0    3.102054\n",
       "1    2.391979\n",
       "2    2.500200\n",
       "3    1.955496\n",
       "4    2.548940\n",
       "5    2.556469\n",
       "6    2.090457\n",
       "7    2.125930\n",
       "Name: alpha, dtype: float64"
      ]
     },
     "execution_count": 166,
     "metadata": {},
     "output_type": "execute_result"
    }
   ],
   "source": [
    "alphaRAlgos"
   ]
  },
  {
   "cell_type": "code",
   "execution_count": 6,
   "id": "d8848518",
   "metadata": {},
   "outputs": [
    {
     "name": "stdout",
     "output_type": "stream",
     "text": [
      "Shapiro-Wilk Test:\n",
      "Test Statistic: 0.8902362585067749\n",
      "p-value: 0.0068085272796452045\n"
     ]
    }
   ],
   "source": [
    "import scipy.stats as stats\n",
    "\n",
    "# Assuming 'data' is an array or list containing the data for a single group\n",
    "\n",
    "# Perform the Shapiro-Wilk test\n",
    "statistic, p_value = stats.shapiro(alphaRCrypto)\n",
    "\n",
    "# Print the test results\n",
    "print(\"Shapiro-Wilk Test:\")\n",
    "print(\"Test Statistic:\", statistic)\n",
    "print(\"p-value:\", p_value)\n"
   ]
  },
  {
   "cell_type": "code",
   "execution_count": 7,
   "id": "dc5f7ba5",
   "metadata": {},
   "outputs": [],
   "source": [
    "import scikit_posthocs as sp"
   ]
  },
  {
   "cell_type": "raw",
   "id": "6f1635cc",
   "metadata": {},
   "source": [
    "posthoc_results = sp.posthoc_dunn(alpha_values, p_adjust='holm')\n",
    "print(\"Pairwise Comparison (Dunn's test) Results:\")\n",
    "print(posthoc_results)"
   ]
  },
  {
   "cell_type": "code",
   "execution_count": 8,
   "id": "66f61f72",
   "metadata": {},
   "outputs": [
    {
     "name": "stdout",
     "output_type": "stream",
     "text": [
      "Pairwise Comparison (Dunn's test) Results:\n",
      "          1         2         3\n",
      "1  1.000000  0.239821  0.034995\n",
      "2  0.239821  1.000000  0.091522\n",
      "3  0.034995  0.091522  1.000000\n"
     ]
    }
   ],
   "source": [
    "posthoc_results = sp.posthoc_dunn(alpha_valuesR, p_adjust='holm')\n",
    "print(\"Pairwise Comparison (Dunn's test) Results:\")\n",
    "print(posthoc_results)"
   ]
  },
  {
   "cell_type": "code",
   "execution_count": 9,
   "id": "660c254f",
   "metadata": {},
   "outputs": [
    {
     "name": "stdout",
     "output_type": "stream",
     "text": [
      "2.5195933975\n",
      "2.675667146\n",
      "2.5021175214999998\n"
     ]
    }
   ],
   "source": [
    "print(alphaRCrypto.median())\n",
    "print(alphaRToken.median())\n",
    "print(alphaRAlgos.median())"
   ]
  },
  {
   "cell_type": "code",
   "execution_count": 244,
   "id": "b580b70a",
   "metadata": {},
   "outputs": [
    {
     "name": "stdout",
     "output_type": "stream",
     "text": [
      "Original Test Statistic: 7.5392792325641835\n",
      "Empirical p-value: 0.574\n"
     ]
    }
   ],
   "source": [
    "#Bootstrapping to check for robustness\n",
    "import numpy as np\n",
    "from scipy import stats\n",
    "\n",
    "\n",
    "# Compute the Kruskal-Wallis test statistic on the original data\n",
    "kw_statistic, p_value = stats.kruskal(alphaRAlgos, alphaRCrypto, alphaRToken)\n",
    "original_statistic = kw_statistic\n",
    "\n",
    "# Set the number of resampling iterations\n",
    "n_iterations = 10000\n",
    "\n",
    "# Perform bootstrapping\n",
    "bootstrapped_statistics = []\n",
    "pstat=[]\n",
    "for _ in range(n_iterations):\n",
    "    # Resample with replacement from each group\n",
    "    resampled_algo = np.random.choice(alphaRAlgos, size=len(alphaRAlgos), replace=True)\n",
    "    resampled_crypto = np.random.choice(alphaRCrypto, size=len(alphaRCrypto), replace=True)\n",
    "    resampled_token = np.random.choice(alphaRToken, size=len(alphaRToken), replace=True)\n",
    "    \n",
    "    # Compute the Kruskal-Wallis test statistic on the resampled data\n",
    "    resampled_statistic, p = stats.kruskal(resampled_algo, resampled_crypto, resampled_token)\n",
    "    \n",
    "    # Store the resampled test statistic\n",
    "    \n",
    "    bootstrapped_statistics.append(resampled_statistic)\n",
    "    #pstat.append(p)\n",
    "# Calculate the empirical p-value\n",
    "empirical_p_value = np.mean(np.array(bootstrapped_statistics) >= original_statistic)\n",
    "\n",
    "# Print the original test statistic and the empirical p-value\n",
    "print(\"Original Test Statistic:\", original_statistic)\n",
    "print(\"Empirical p-value:\", empirical_p_value)\n"
   ]
  },
  {
   "cell_type": "code",
   "execution_count": 231,
   "id": "77b48ea7",
   "metadata": {},
   "outputs": [
    {
     "data": {
      "text/plain": [
       "7219"
      ]
     },
     "execution_count": 231,
     "metadata": {},
     "output_type": "execute_result"
    }
   ],
   "source": [
    "len(bootstrapped_statistics)"
   ]
  },
  {
   "cell_type": "code",
   "execution_count": 196,
   "id": "7bb387fd",
   "metadata": {},
   "outputs": [],
   "source": [
    "a=0\n",
    "for i in bootstrapped_statistics:\n",
    "    if i > original_statistic:\n",
    "        a+=1"
   ]
  },
  {
   "cell_type": "code",
   "execution_count": 219,
   "id": "7591339b",
   "metadata": {},
   "outputs": [
    {
     "data": {
      "text/plain": [
       "0    3.102054\n",
       "1    2.391979\n",
       "2    2.500200\n",
       "3    1.955496\n",
       "4    2.548940\n",
       "5    2.556469\n",
       "6    2.090457\n",
       "7    2.125930\n",
       "Name: alpha, dtype: float64"
      ]
     },
     "execution_count": 219,
     "metadata": {},
     "output_type": "execute_result"
    }
   ],
   "source": [
    "alphaRAlgos"
   ]
  },
  {
   "cell_type": "code",
   "execution_count": 20,
   "id": "3453c401",
   "metadata": {},
   "outputs": [
    {
     "name": "stdout",
     "output_type": "stream",
     "text": [
      "Subset: (0    1.878351\n",
      "1    2.500968\n",
      "2    2.597502\n",
      "3    2.157698\n",
      "4    2.283441\n",
      "5    2.535090\n",
      "6    2.507108\n",
      "7    2.503267\n",
      "Name: alpha, dtype: float64, 0     2.520922\n",
      "1     2.598438\n",
      "2     2.762552\n",
      "3     2.781437\n",
      "4     1.823568\n",
      "5     2.084857\n",
      "6     2.306785\n",
      "7     3.838190\n",
      "8     2.518500\n",
      "9     2.377200\n",
      "10    2.557782\n",
      "11    2.645053\n",
      "12    3.520301\n",
      "13    2.520687\n",
      "14    2.511392\n",
      "15    3.544110\n",
      "16    2.000228\n",
      "17    2.169626\n",
      "18    2.006358\n",
      "19    2.520737\n",
      "20    2.264478\n",
      "22    2.848118\n",
      "23    3.511600\n",
      "24    2.138753\n",
      "25    2.561729\n",
      "26    2.044021\n",
      "27    2.518042\n",
      "28    1.900941\n",
      "Name: alpha, dtype: float64)\n",
      "Combined Data: [1.87835141 2.50096772 2.59750159 2.15769842 2.28344149 2.53508957\n",
      " 2.5071081  2.50326732 2.52092155 2.59843818 2.76255187 2.78143726\n",
      " 1.82356817 2.0848565  2.30678516 3.8381899  2.51849996 2.37720031\n",
      " 2.55778233 2.64505265 3.52030129 2.52068684 2.51139199 3.54410975\n",
      " 2.00022845 2.16962636 2.00635807 2.52073744 2.26447798 2.84811809\n",
      " 3.51159987 2.13875295 2.56172862 2.04402147 2.51804172 1.90094116]\n",
      "Kruskal-Wallis Test Statistic: 0.9787644787644751\n",
      "p-value: 0.32250402691563573\n",
      "--------------------\n",
      "Subset: (0    1.878351\n",
      "1    2.500968\n",
      "2    2.597502\n",
      "3    2.157698\n",
      "4    2.283441\n",
      "5    2.535090\n",
      "6    2.507108\n",
      "7    2.503267\n",
      "Name: alpha, dtype: float64, 0     3.007681\n",
      "1     3.229048\n",
      "2     2.517822\n",
      "3     3.259076\n",
      "4     2.536018\n",
      "5     2.754598\n",
      "6     1.632973\n",
      "7     2.527774\n",
      "8     2.549149\n",
      "9     3.033552\n",
      "10    2.016630\n",
      "11    2.675667\n",
      "12    2.539631\n",
      "13    2.610879\n",
      "14    2.945869\n",
      "15    2.880516\n",
      "16    3.334471\n",
      "17    2.583397\n",
      "18    3.223455\n",
      "19    2.320308\n",
      "20    2.678412\n",
      "Name: alpha, dtype: float64)\n",
      "Combined Data: [1.87835141 2.50096772 2.59750159 2.15769842 2.28344149 2.53508957\n",
      " 2.5071081  2.50326732 3.0076808  3.22904828 2.51782228 3.2590759\n",
      " 2.53601818 2.75459758 1.63297298 2.52777432 2.5491495  3.03355216\n",
      " 2.01662976 2.67566715 2.53963139 2.61087901 2.94586869 2.88051568\n",
      " 3.33447123 2.58339715 3.22345542 2.32030761 2.67841213]\n",
      "Kruskal-Wallis Test Statistic: 7.466666666666654\n",
      "p-value: 0.006285181643384522\n",
      "--------------------\n",
      "Subset: (0     2.520922\n",
      "1     2.598438\n",
      "2     2.762552\n",
      "3     2.781437\n",
      "4     1.823568\n",
      "5     2.084857\n",
      "6     2.306785\n",
      "7     3.838190\n",
      "8     2.518500\n",
      "9     2.377200\n",
      "10    2.557782\n",
      "11    2.645053\n",
      "12    3.520301\n",
      "13    2.520687\n",
      "14    2.511392\n",
      "15    3.544110\n",
      "16    2.000228\n",
      "17    2.169626\n",
      "18    2.006358\n",
      "19    2.520737\n",
      "20    2.264478\n",
      "22    2.848118\n",
      "23    3.511600\n",
      "24    2.138753\n",
      "25    2.561729\n",
      "26    2.044021\n",
      "27    2.518042\n",
      "28    1.900941\n",
      "Name: alpha, dtype: float64, 0     3.007681\n",
      "1     3.229048\n",
      "2     2.517822\n",
      "3     3.259076\n",
      "4     2.536018\n",
      "5     2.754598\n",
      "6     1.632973\n",
      "7     2.527774\n",
      "8     2.549149\n",
      "9     3.033552\n",
      "10    2.016630\n",
      "11    2.675667\n",
      "12    2.539631\n",
      "13    2.610879\n",
      "14    2.945869\n",
      "15    2.880516\n",
      "16    3.334471\n",
      "17    2.583397\n",
      "18    3.223455\n",
      "19    2.320308\n",
      "20    2.678412\n",
      "Name: alpha, dtype: float64)\n",
      "Combined Data: [2.52092155 2.59843818 2.76255187 2.78143726 1.82356817 2.0848565\n",
      " 2.30678516 3.8381899  2.51849996 2.37720031 2.55778233 2.64505265\n",
      " 3.52030129 2.52068684 2.51139199 3.54410975 2.00022845 2.16962636\n",
      " 2.00635807 2.52073744 2.26447798 2.84811809 3.51159987 2.13875295\n",
      " 2.56172862 2.04402147 2.51804172 1.90094116 3.0076808  3.22904828\n",
      " 2.51782228 3.2590759  2.53601818 2.75459758 1.63297298 2.52777432\n",
      " 2.5491495  3.03355216 2.01662976 2.67566715 2.53963139 2.61087901\n",
      " 2.94586869 2.88051568 3.33447123 2.58339715 3.22345542 2.32030761\n",
      " 2.67841213]\n",
      "Kruskal-Wallis Test Statistic: 3.60653061224491\n",
      "p-value: 0.057553066501351474\n",
      "--------------------\n"
     ]
    }
   ],
   "source": [
    "#subset analysis\n",
    "for subset in [(alphaRAlgos, alphaRCrypto), (alphaRAlgos, alphaRToken), (alphaRCrypto, alphaRToken)]:\n",
    "    # Combine the groups in the current subset\n",
    "    combined_data = np.concatenate(subset)\n",
    "    \n",
    "    # Perform the Kruskal-Wallis test on the current subset\n",
    "    kw_statistic, p_value = stats.kruskal(*subset)\n",
    "    \n",
    "    # Print the results\n",
    "    print(\"Subset:\", subset)\n",
    "    print(\"Combined Data:\", combined_data)\n",
    "    print(\"Kruskal-Wallis Test Statistic:\", kw_statistic)\n",
    "    print(\"p-value:\", p_value)\n",
    "    print(\"--------------------\")"
   ]
  },
  {
   "cell_type": "code",
   "execution_count": 243,
   "id": "e50e0376",
   "metadata": {},
   "outputs": [
    {
     "name": "stdout",
     "output_type": "stream",
     "text": [
      "Original Test Statistic: 7.466666666666654\n",
      "Empirical p-value: 0.1188\n"
     ]
    }
   ],
   "source": [
    "#Bootstrapping to check for robustness with ONLY TWO GROUPS\n",
    "\n",
    "\n",
    "# Compute the Kruskal-Wallis test statistic on the original data\n",
    "kw_statistic, p_value = stats.kruskal(alphaRAlgos, alphaRToken)\n",
    "original_statistic = kw_statistic\n",
    "\n",
    "# Set the number of resampling iterations\n",
    "n_iterations = 10000\n",
    "\n",
    "# Perform bootstrapping\n",
    "bootstrapped_statistics = []\n",
    "pstat=[]\n",
    "for _ in range(n_iterations):\n",
    "    # Resample with replacement from each group\n",
    "    resampled_algo = np.random.choice(alphaRAlgos, size=len(alphaRAlgos), replace=True)\n",
    "    \n",
    "    resampled_token = np.random.choice(alphaRToken, size=len(alphaRToken), replace=True)\n",
    "    \n",
    "    # Compute the Kruskal-Wallis test statistic on the resampled data\n",
    "    resampled_statistic, p = stats.kruskal(resampled_algo, resampled_token)\n",
    "    \n",
    "    # Store the resampled test statistic\n",
    "    \n",
    "    bootstrapped_statistics.append(resampled_statistic)\n",
    "    #pstat.append(p)\n",
    "# Calculate the empirical p-value\n",
    "empirical_p_value = np.mean(np.array(bootstrapped_statistics) >= original_statistic)\n",
    "\n",
    "# Print the original test statistic and the empirical p-value\n",
    "print(\"Original Test Statistic:\", original_statistic)\n",
    "print(\"Empirical p-value:\", empirical_p_value)\n"
   ]
  },
  {
   "cell_type": "code",
   "execution_count": 10,
   "id": "258d4f4c",
   "metadata": {},
   "outputs": [
    {
     "name": "stdout",
     "output_type": "stream",
     "text": [
      "Observed Test Statistic: 7.5392792325641835\n",
      "Permutation Test p-value: 0.0221\n"
     ]
    }
   ],
   "source": [
    "#permutations\n",
    "\n",
    "\n",
    "observed_statistic, p_value = stats.kruskal(alphaRAlgos, alphaRCrypto, alphaRToken)\n",
    "import numpy as np\n",
    "\n",
    "# Combine the groups into a single array\n",
    "combined_data = np.concatenate([alphaRAlgos, alphaRCrypto, alphaRToken])\n",
    "\n",
    "# Define the number of permutations\n",
    "n_permutations = 10000\n",
    "\n",
    "# Initialize an array to store the permuted test statistics\n",
    "permuted_statistics = np.zeros(n_permutations)\n",
    "\n",
    "# Perform the permutation test\n",
    "for i in range(n_permutations):\n",
    "    # Randomly permute the group labels\n",
    "    np.random.shuffle(combined_data)\n",
    "    \n",
    "    # Calculate the test statistic for the current permutation\n",
    "    permuted_statistic, _ = stats.kruskal(\n",
    "        combined_data[:len(alphaRAlgos)],\n",
    "        combined_data[len(alphaRAlgos):len(alphaRAlgos) + len(alphaRCrypto)],\n",
    "        combined_data[len(alphaRAlgos) + len(alphaRCrypto):]\n",
    "    )\n",
    "    \n",
    "    # Store the permuted test statistic\n",
    "    permuted_statistics[i] = permuted_statistic\n",
    "    \n",
    "# Calculate the p-value\n",
    "p_value_permutation = np.sum(permuted_statistics >= observed_statistic) / n_permutations\n",
    "\n",
    "print(\"Observed Test Statistic:\", observed_statistic)\n",
    "print(\"Permutation Test p-value:\", p_value_permutation)\n"
   ]
  },
  {
   "cell_type": "code",
   "execution_count": 11,
   "id": "b1b71d50",
   "metadata": {},
   "outputs": [
    {
     "name": "stdout",
     "output_type": "stream",
     "text": [
      "Observed Kruskal-Wallis Statistic: 7.5392792325641835\n",
      "Permutation Test p-value: 0.02\n"
     ]
    }
   ],
   "source": [
    "#from scipy import stats\n",
    "#import numpy as np\n",
    "\n",
    "def permutation_test_kruskal(group1, group2, group3, n_permutations=10000):\n",
    "    # Compute observed Kruskal-Wallis statistic\n",
    "    observed_statistic, _ = stats.kruskal(group1, group2, group3)\n",
    "    \n",
    "    # Combine groups\n",
    "    combined_data = np.concatenate([group1, group2, group3])\n",
    "    \n",
    "    # Perform permutations and track how often we see a test statistic as extreme as the observed\n",
    "    count_extreme_values = 0\n",
    "    for _ in range(n_permutations):\n",
    "        np.random.shuffle(combined_data)\n",
    "        \n",
    "        # Divide shuffled data back into groups\n",
    "        perm_group1 = combined_data[:21]\n",
    "        perm_group2 = combined_data[21:49]\n",
    "        perm_group3 = combined_data[49:]\n",
    "        \n",
    "        permuted_statistic, _ = stats.kruskal(perm_group1, perm_group2, perm_group3)\n",
    "        \n",
    "        if permuted_statistic >= observed_statistic:\n",
    "            count_extreme_values += 1\n",
    "            \n",
    "    p_value = count_extreme_values / n_permutations\n",
    "    \n",
    "    return observed_statistic, p_value\n",
    "\n",
    "# Example usage\n",
    "group1 = np.random.rand(20)\n",
    "group2 = np.random.rand(10)\n",
    "group3 = np.random.rand(28)\n",
    "\n",
    "observed_statistic, p_value_permutation = permutation_test_kruskal(alphaRToken, alphaRCrypto, alphaRAlgos)\n",
    "print(f\"Observed Kruskal-Wallis Statistic: {observed_statistic}\")\n",
    "print(f\"Permutation Test p-value: {p_value_permutation}\")\n"
   ]
  },
  {
   "cell_type": "code",
   "execution_count": 28,
   "id": "f62387cd",
   "metadata": {},
   "outputs": [
    {
     "data": {
      "text/plain": [
       "28"
      ]
     },
     "execution_count": 28,
     "metadata": {},
     "output_type": "execute_result"
    }
   ],
   "source": [
    "len(alphaRCrypto)"
   ]
  },
  {
   "cell_type": "code",
   "execution_count": 12,
   "id": "8ef5b0be",
   "metadata": {},
   "outputs": [
    {
     "name": "stdout",
     "output_type": "stream",
     "text": [
      "Group 1 appears to be normally distributed (fail to reject the null hypothesis)\n",
      "Group 2 is not normally distributed (reject the null hypothesis)\n",
      "Group 3 appears to be normally distributed (fail to reject the null hypothesis)\n"
     ]
    }
   ],
   "source": [
    "import scipy.stats as stats\n",
    "import numpy as np\n",
    "\n",
    "\n",
    "# Perform the Shapiro-Francia test for each group\n",
    "shapiro_statistic1, shapiro_p_value1 = stats.shapiro(alphaRToken)\n",
    "shapiro_statistic2, shapiro_p_value2 = stats.shapiro(alphaRCrypto)\n",
    "shapiro_statistic3, shapiro_p_value3 = stats.shapiro(alphaRAlgos)\n",
    "\n",
    "# Interpret the results\n",
    "alpha = 0.05  # Significance level\n",
    "\n",
    "# Group 1\n",
    "if shapiro_p_value1 < alpha:\n",
    "    print(\"Group 1 is not normally distributed (reject the null hypothesis)\")\n",
    "else:\n",
    "    print(\"Group 1 appears to be normally distributed (fail to reject the null hypothesis)\")\n",
    "\n",
    "# Group 2\n",
    "if shapiro_p_value2 < alpha:\n",
    "    print(\"Group 2 is not normally distributed (reject the null hypothesis)\")\n",
    "else:\n",
    "    print(\"Group 2 appears to be normally distributed (fail to reject the null hypothesis)\")\n",
    "\n",
    "# Group 3\n",
    "if shapiro_p_value3 < alpha:\n",
    "    print(\"Group 3 is not normally distributed (reject the null hypothesis)\")\n",
    "else:\n",
    "    print(\"Group 3 appears to be normally distributed (fail to reject the null hypothesis)\")\n"
   ]
  },
  {
   "cell_type": "code",
   "execution_count": 39,
   "id": "10071b4a",
   "metadata": {},
   "outputs": [
    {
     "name": "stdout",
     "output_type": "stream",
     "text": [
      "0.06796768275571409\n",
      "0.024683374885853787\n",
      "0.013947419769776705\n"
     ]
    }
   ],
   "source": [
    "import statsmodels.api as sm\n",
    "import numpy as np\n",
    "\n",
    "# Example data for three groups (replace this with your actual data)\n",
    "group1 = np.array([15, 20, 25, 30, 35])\n",
    "group2 = np.array([12, 18, 24, 30, 36])\n",
    "group3 = np.array([10, 20, 30, 40, 50])\n",
    "\n",
    "# Perform the Lilliefors test for each group\n",
    "lilliefors_statistic1, lilliefors_p_value1 = sm.stats.lilliefors(alphaRToken)\n",
    "lilliefors_statistic2, lilliefors_p_value2 = sm.stats.lilliefors(alphaRCrypto)\n",
    "lilliefors_statistic3, lilliefors_p_value3 = sm.stats.lilliefors(alphaRAlgos)\n",
    "\n",
    "# Interpret the results\n",
    "alpha = 0.05  # Significance level\n",
    "\n",
    "# Group 1\n",
    "\n",
    "print(lilliefors_p_value1)\n",
    "\n",
    "print(lilliefors_p_value2)\n",
    "\n",
    "print(lilliefors_p_value3)\n",
    "\n",
    "    \n"
   ]
  },
  {
   "cell_type": "code",
   "execution_count": 13,
   "id": "4f19eb90",
   "metadata": {},
   "outputs": [],
   "source": [
    "#dropping the outliers here for crypto-backed to see if they affect the KW test result and the normality test\n",
    "\n",
    "# Drop rows containing 'USDP8886' or 'DOLA' in the first column\n",
    "cryptoNoOutlier = cryptoR.drop(cryptoR[cryptoR['Coin'].isin(['DOLA-USD.csv'])].index)\n",
    "cryptoNoOutlier = cryptoNoOutlier['alpha']\n",
    "cryptoNoOutlier.dropna(inplace=True)\n",
    "#'USDP8886-USD.csv',"
   ]
  },
  {
   "cell_type": "code",
   "execution_count": 14,
   "id": "e3608380",
   "metadata": {},
   "outputs": [
    {
     "name": "stdout",
     "output_type": "stream",
     "text": [
      "Shapiro-Wilk Test:\n",
      "Test Statistic: 0.8946092128753662\n",
      "p-value: 0.010090204887092113\n"
     ]
    }
   ],
   "source": [
    "#performing the kruskal wallis again and the dunn test and normality test\n",
    "statistic, p_value = stats.shapiro(cryptoNoOutlier)\n",
    "\n",
    "# Print the test results\n",
    "print(\"Shapiro-Wilk Test:\")\n",
    "print(\"Test Statistic:\", statistic)\n",
    "print(\"p-value:\", p_value)\n"
   ]
  },
  {
   "cell_type": "code",
   "execution_count": 15,
   "id": "73e05168",
   "metadata": {},
   "outputs": [
    {
     "name": "stdout",
     "output_type": "stream",
     "text": [
      "Kruskal-Wallis test statistic: 8.418277837450773\n",
      "p-value: 0.01485915777344018\n"
     ]
    }
   ],
   "source": [
    "# Combine the alpha values into a list\n",
    "alpha_ = [alphaRAlgos, cryptoNoOutlier, alphaRToken]\n",
    "\n",
    "# Perform Kruskal-Wallis test\n",
    "statistic, p_value = stats.kruskal(*alpha_)\n",
    "\n",
    "# Print the results\n",
    "print(\"Kruskal-Wallis test statistic:\", statistic)\n",
    "print(\"p-value:\", p_value)"
   ]
  },
  {
   "cell_type": "code",
   "execution_count": 92,
   "id": "1e9096a4",
   "metadata": {},
   "outputs": [
    {
     "name": "stdout",
     "output_type": "stream",
     "text": [
      "Pairwise Comparison (Dunn's test) Results:\n",
      "          1         2         3\n",
      "1  1.000000  0.307877  0.030796\n",
      "2  0.307877  1.000000  0.048330\n",
      "3  0.030796  0.048330  1.000000\n"
     ]
    }
   ],
   "source": [
    "posthoc_results = sp.posthoc_dunn(alpha_, p_adjust='holm')\n",
    "print(\"Pairwise Comparison (Dunn's test) Results:\")\n",
    "print(posthoc_results)"
   ]
  },
  {
   "cell_type": "code",
   "execution_count": 93,
   "id": "74346cb5",
   "metadata": {},
   "outputs": [
    {
     "data": {
      "text/html": [
       "<div>\n",
       "<style scoped>\n",
       "    .dataframe tbody tr th:only-of-type {\n",
       "        vertical-align: middle;\n",
       "    }\n",
       "\n",
       "    .dataframe tbody tr th {\n",
       "        vertical-align: top;\n",
       "    }\n",
       "\n",
       "    .dataframe thead th {\n",
       "        text-align: right;\n",
       "    }\n",
       "</style>\n",
       "<table border=\"1\" class=\"dataframe\">\n",
       "  <thead>\n",
       "    <tr style=\"text-align: right;\">\n",
       "      <th></th>\n",
       "      <th>Coin</th>\n",
       "      <th>alpha</th>\n",
       "      <th>xmin</th>\n",
       "      <th>p</th>\n",
       "    </tr>\n",
       "  </thead>\n",
       "  <tbody>\n",
       "    <tr>\n",
       "      <th>0</th>\n",
       "      <td>ANGLE-USD.csv</td>\n",
       "      <td>2.520922</td>\n",
       "      <td>0.880739</td>\n",
       "      <td>0.133</td>\n",
       "    </tr>\n",
       "    <tr>\n",
       "      <th>1</th>\n",
       "      <td>BITCNY-USD-nonUSD.csv</td>\n",
       "      <td>2.598438</td>\n",
       "      <td>0.061478</td>\n",
       "      <td>0.105</td>\n",
       "    </tr>\n",
       "    <tr>\n",
       "      <th>2</th>\n",
       "      <td>CEUR-USD-nonUSD.csv</td>\n",
       "      <td>2.762552</td>\n",
       "      <td>0.352709</td>\n",
       "      <td>0.279</td>\n",
       "    </tr>\n",
       "    <tr>\n",
       "      <th>3</th>\n",
       "      <td>CUSD-USD</td>\n",
       "      <td>2.781437</td>\n",
       "      <td>0.127129</td>\n",
       "      <td>0.122</td>\n",
       "    </tr>\n",
       "    <tr>\n",
       "      <th>4</th>\n",
       "      <td>CUSD21871-USD-(usdt-backed).csv</td>\n",
       "      <td>1.823568</td>\n",
       "      <td>0.406200</td>\n",
       "      <td>0.104</td>\n",
       "    </tr>\n",
       "    <tr>\n",
       "      <th>5</th>\n",
       "      <td>DAI-USD</td>\n",
       "      <td>2.084857</td>\n",
       "      <td>1.668343</td>\n",
       "      <td>0.800</td>\n",
       "    </tr>\n",
       "    <tr>\n",
       "      <th>6</th>\n",
       "      <td>DJED-USD.csv</td>\n",
       "      <td>2.306785</td>\n",
       "      <td>3.279571</td>\n",
       "      <td>0.500</td>\n",
       "    </tr>\n",
       "    <tr>\n",
       "      <th>7</th>\n",
       "      <td>DOLA-USD.csv</td>\n",
       "      <td>3.838190</td>\n",
       "      <td>1.427027</td>\n",
       "      <td>0.156</td>\n",
       "    </tr>\n",
       "    <tr>\n",
       "      <th>8</th>\n",
       "      <td>DUSD-USD.csv</td>\n",
       "      <td>2.518500</td>\n",
       "      <td>7.011668</td>\n",
       "      <td>0.431</td>\n",
       "    </tr>\n",
       "    <tr>\n",
       "      <th>9</th>\n",
       "      <td>EOSDT-USD.csv</td>\n",
       "      <td>2.377200</td>\n",
       "      <td>0.793706</td>\n",
       "      <td>0.109</td>\n",
       "    </tr>\n",
       "    <tr>\n",
       "      <th>10</th>\n",
       "      <td>LUSD-USD.csv</td>\n",
       "      <td>2.557782</td>\n",
       "      <td>2.781600</td>\n",
       "      <td>0.700</td>\n",
       "    </tr>\n",
       "    <tr>\n",
       "      <th>11</th>\n",
       "      <td>MCELO-USD</td>\n",
       "      <td>2.645053</td>\n",
       "      <td>2.799008</td>\n",
       "      <td>0.130</td>\n",
       "    </tr>\n",
       "    <tr>\n",
       "      <th>12</th>\n",
       "      <td>MCEUR-USD-nonUSD.csv</td>\n",
       "      <td>3.520301</td>\n",
       "      <td>1.488786</td>\n",
       "      <td>0.300</td>\n",
       "    </tr>\n",
       "    <tr>\n",
       "      <th>13</th>\n",
       "      <td>MIM-USD.csv</td>\n",
       "      <td>2.520687</td>\n",
       "      <td>0.437245</td>\n",
       "      <td>0.975</td>\n",
       "    </tr>\n",
       "    <tr>\n",
       "      <th>14</th>\n",
       "      <td>MIMATIC-USD</td>\n",
       "      <td>2.511392</td>\n",
       "      <td>0.563646</td>\n",
       "      <td>0.677</td>\n",
       "    </tr>\n",
       "    <tr>\n",
       "      <th>15</th>\n",
       "      <td>MONEY18758-USD</td>\n",
       "      <td>3.544110</td>\n",
       "      <td>0.706776</td>\n",
       "      <td>0.116</td>\n",
       "    </tr>\n",
       "    <tr>\n",
       "      <th>16</th>\n",
       "      <td>OUSD-USD</td>\n",
       "      <td>2.000228</td>\n",
       "      <td>0.056849</td>\n",
       "      <td>0.113</td>\n",
       "    </tr>\n",
       "    <tr>\n",
       "      <th>17</th>\n",
       "      <td>PAR8665-USD.csv</td>\n",
       "      <td>2.169626</td>\n",
       "      <td>0.393374</td>\n",
       "      <td>0.103</td>\n",
       "    </tr>\n",
       "    <tr>\n",
       "      <th>18</th>\n",
       "      <td>RSV-USD.csv</td>\n",
       "      <td>2.006358</td>\n",
       "      <td>3.405413</td>\n",
       "      <td>0.704</td>\n",
       "    </tr>\n",
       "    <tr>\n",
       "      <th>19</th>\n",
       "      <td>SUSD-USD.csv</td>\n",
       "      <td>2.520737</td>\n",
       "      <td>2.983423</td>\n",
       "      <td>0.278</td>\n",
       "    </tr>\n",
       "    <tr>\n",
       "      <th>20</th>\n",
       "      <td>TOR18105-USD.csv</td>\n",
       "      <td>2.264478</td>\n",
       "      <td>0.807175</td>\n",
       "      <td>0.142</td>\n",
       "    </tr>\n",
       "    <tr>\n",
       "      <th>21</th>\n",
       "      <td>USDH-USD</td>\n",
       "      <td>NaN</td>\n",
       "      <td>NaN</td>\n",
       "      <td>NaN</td>\n",
       "    </tr>\n",
       "    <tr>\n",
       "      <th>22</th>\n",
       "      <td>USDJ-USD</td>\n",
       "      <td>2.848118</td>\n",
       "      <td>2.592703</td>\n",
       "      <td>0.500</td>\n",
       "    </tr>\n",
       "    <tr>\n",
       "      <th>23</th>\n",
       "      <td>USDP8886-USD.csv</td>\n",
       "      <td>3.511600</td>\n",
       "      <td>1.408145</td>\n",
       "      <td>0.101</td>\n",
       "    </tr>\n",
       "    <tr>\n",
       "      <th>24</th>\n",
       "      <td>USDS17285-USD.csv</td>\n",
       "      <td>2.138753</td>\n",
       "      <td>3.187468</td>\n",
       "      <td>0.360</td>\n",
       "    </tr>\n",
       "    <tr>\n",
       "      <th>25</th>\n",
       "      <td>USDX6651-USD.csv</td>\n",
       "      <td>2.561729</td>\n",
       "      <td>12.868533</td>\n",
       "      <td>0.600</td>\n",
       "    </tr>\n",
       "    <tr>\n",
       "      <th>26</th>\n",
       "      <td>USX13080-USD</td>\n",
       "      <td>2.044021</td>\n",
       "      <td>3.751864</td>\n",
       "      <td>0.527</td>\n",
       "    </tr>\n",
       "    <tr>\n",
       "      <th>27</th>\n",
       "      <td>VAI-USD</td>\n",
       "      <td>2.518042</td>\n",
       "      <td>0.248689</td>\n",
       "      <td>0.107</td>\n",
       "    </tr>\n",
       "    <tr>\n",
       "      <th>28</th>\n",
       "      <td>XDAI-USD.csv</td>\n",
       "      <td>1.900941</td>\n",
       "      <td>3.195616</td>\n",
       "      <td>0.420</td>\n",
       "    </tr>\n",
       "  </tbody>\n",
       "</table>\n",
       "</div>"
      ],
      "text/plain": [
       "                               Coin     alpha       xmin      p\n",
       "0                     ANGLE-USD.csv  2.520922   0.880739  0.133\n",
       "1             BITCNY-USD-nonUSD.csv  2.598438   0.061478  0.105\n",
       "2               CEUR-USD-nonUSD.csv  2.762552   0.352709  0.279\n",
       "3                          CUSD-USD  2.781437   0.127129  0.122\n",
       "4   CUSD21871-USD-(usdt-backed).csv  1.823568   0.406200  0.104\n",
       "5                           DAI-USD  2.084857   1.668343  0.800\n",
       "6                      DJED-USD.csv  2.306785   3.279571  0.500\n",
       "7                      DOLA-USD.csv  3.838190   1.427027  0.156\n",
       "8                      DUSD-USD.csv  2.518500   7.011668  0.431\n",
       "9                     EOSDT-USD.csv  2.377200   0.793706  0.109\n",
       "10                     LUSD-USD.csv  2.557782   2.781600  0.700\n",
       "11                        MCELO-USD  2.645053   2.799008  0.130\n",
       "12             MCEUR-USD-nonUSD.csv  3.520301   1.488786  0.300\n",
       "13                      MIM-USD.csv  2.520687   0.437245  0.975\n",
       "14                      MIMATIC-USD  2.511392   0.563646  0.677\n",
       "15                   MONEY18758-USD  3.544110   0.706776  0.116\n",
       "16                         OUSD-USD  2.000228   0.056849  0.113\n",
       "17                  PAR8665-USD.csv  2.169626   0.393374  0.103\n",
       "18                      RSV-USD.csv  2.006358   3.405413  0.704\n",
       "19                     SUSD-USD.csv  2.520737   2.983423  0.278\n",
       "20                 TOR18105-USD.csv  2.264478   0.807175  0.142\n",
       "21                         USDH-USD       NaN        NaN    NaN\n",
       "22                         USDJ-USD  2.848118   2.592703  0.500\n",
       "23                 USDP8886-USD.csv  3.511600   1.408145  0.101\n",
       "24                USDS17285-USD.csv  2.138753   3.187468  0.360\n",
       "25                 USDX6651-USD.csv  2.561729  12.868533  0.600\n",
       "26                     USX13080-USD  2.044021   3.751864  0.527\n",
       "27                          VAI-USD  2.518042   0.248689  0.107\n",
       "28                     XDAI-USD.csv  1.900941   3.195616  0.420"
      ]
     },
     "execution_count": 93,
     "metadata": {},
     "output_type": "execute_result"
    }
   ],
   "source": [
    "cryptoR"
   ]
  },
  {
   "cell_type": "code",
   "execution_count": 23,
   "id": "538e8006",
   "metadata": {},
   "outputs": [
    {
     "data": {
      "image/png": "[encoded data removed]",
      "text/plain": [
       "<Figure size 864x432 with 1 Axes>"
      ]
     },
     "metadata": {
      "needs_background": "light"
     },
     "output_type": "display_data"
    }
   ],
   "source": [
    "#plotting the groups\n",
    "import matplotlib.pyplot as plt\n",
    "import numpy as np\n",
    "\n",
    "# Assuming you have three groups of data: group_a, group_b, and group_c\n",
    "# Each group is a NumPy array or a list of data points\n",
    "\n",
    "# Create a scatter plot\n",
    "plt.figure(figsize=(12, 6))\n",
    "\n",
    "# Plot points for group_a in red\n",
    "plt.scatter(alphaRAlgos, np.ones(len(alphaRAlgos)), color='red', label='Algorithmic')\n",
    "\n",
    "# Plot points for group_b in green\n",
    "plt.scatter(alphaRCrypto, 2 * np.ones(len(alphaRCrypto)), color='green', label='Crypto-Backed')\n",
    "\n",
    "# Plot points for group_c in blue\n",
    "plt.scatter(alphaRToken, 3 * np.ones(len(alphaRToken)), color='blue', label='Tokenized')\n",
    "\n",
    "# Customize labels and title\n",
    "plt.xlabel('Data Points')\n",
    "plt.ylabel('Group')\n",
    "plt.title('Scatter Plot of Data Points by Group')\n",
    "\n",
    "# Set x-axis limits based on the data range\n",
    "x_min = min(min(alphaRAlgos), min(alphaRCrypto), min(alphaRToken))\n",
    "x_max = max(max(alphaRAlgos), max(alphaRCrypto), max(alphaRToken))\n",
    "x_padding = 0.05 * (x_max - x_min)  # Adjust the padding factor as needed\n",
    "plt.xlim(x_min - x_padding, x_max + x_padding)\n",
    "\n",
    "\n",
    "# Show legend\n",
    "plt.legend()\n",
    "\n",
    "# Show the plot\n",
    "plt.show()"
   ]
  },
  {
   "cell_type": "code",
   "execution_count": 17,
   "id": "a24537b1",
   "metadata": {},
   "outputs": [
    {
     "data": {
      "text/plain": [
       "0     3.007681\n",
       "1     3.229048\n",
       "2     2.517822\n",
       "3     3.259076\n",
       "4     2.536018\n",
       "5     2.754598\n",
       "6     1.632973\n",
       "7     2.527774\n",
       "8     2.549149\n",
       "9     3.033552\n",
       "10    2.016630\n",
       "11    2.675667\n",
       "12    2.539631\n",
       "13    2.610879\n",
       "14    2.945869\n",
       "15    2.880516\n",
       "16    3.334471\n",
       "17    2.583397\n",
       "18    3.223455\n",
       "19    2.320308\n",
       "20    2.678412\n",
       "Name: alpha, dtype: float64"
      ]
     },
     "execution_count": 17,
     "metadata": {},
     "output_type": "execute_result"
    }
   ],
   "source": [
    "alphaRToken"
   ]
  },
  {
   "cell_type": "code",
   "execution_count": 24,
   "id": "bf4b5d1a",
   "metadata": {},
   "outputs": [
    {
     "data": {
      "text/plain": [
       "<Figure size 432x288 with 0 Axes>"
      ]
     },
     "metadata": {},
     "output_type": "display_data"
    }
   ],
   "source": [
    "plt.savefig('scatter_plot.png', dpi=300, bbox_inches='tight')"
   ]
  },
  {
   "cell_type": "code",
   "execution_count": 49,
   "id": "ca0ad895",
   "metadata": {},
   "outputs": [],
   "source": [
    "import numpy as np\n",
    "\n",
    "# Assuming you have three groups of data: group_a, group_b, and group_c\n",
    "# Each group is a NumPy array or a list of data points\n",
    "\n",
    "def remove_outliers(data, threshold=2):\n",
    "    # Calculate the mean and standard deviation of the data\n",
    "    mean = np.mean(data)\n",
    "    std_dev = np.std(data)\n",
    "    \n",
    "    # Calculate the Z-scores for each data point\n",
    "    z_scores = np.abs((data - mean) / std_dev)\n",
    "    \n",
    "    # Identify outliers based on the threshold\n",
    "    outliers = z_scores > threshold\n",
    "    \n",
    "    # Remove outliers from the data\n",
    "    cleaned_data = data[~outliers]\n",
    "    \n",
    "    return cleaned_data\n",
    "\n",
    "# Remove outliers from each group using a threshold of 3 standard deviations\n",
    "cleaned_group_a = remove_outliers(alphaRAlgos)\n",
    "cleaned_group_b = remove_outliers(alphaRCrypto)\n",
    "cleaned_group_c = remove_outliers(alphaRToken)"
   ]
  },
  {
   "cell_type": "code",
   "execution_count": 50,
   "id": "459f1784",
   "metadata": {},
   "outputs": [
    {
     "data": {
      "text/plain": [
       "(7, 8)"
      ]
     },
     "execution_count": 50,
     "metadata": {},
     "output_type": "execute_result"
    }
   ],
   "source": [
    "len(cleaned_group_a), len(alphaRAlgos)"
   ]
  },
  {
   "cell_type": "code",
   "execution_count": 51,
   "id": "e6c74b13",
   "metadata": {},
   "outputs": [
    {
     "data": {
      "text/plain": [
       "(27, 28)"
      ]
     },
     "execution_count": 51,
     "metadata": {},
     "output_type": "execute_result"
    }
   ],
   "source": [
    "len(cleaned_group_b), len(alphaRCrypto)"
   ]
  },
  {
   "cell_type": "code",
   "execution_count": 52,
   "id": "b7c81d81",
   "metadata": {},
   "outputs": [
    {
     "data": {
      "text/plain": [
       "(20, 21)"
      ]
     },
     "execution_count": 52,
     "metadata": {},
     "output_type": "execute_result"
    }
   ],
   "source": [
    "len(cleaned_group_c), len(alphaRToken)"
   ]
  },
  {
   "cell_type": "code",
   "execution_count": 53,
   "id": "739ae1bd",
   "metadata": {},
   "outputs": [
    {
     "name": "stdout",
     "output_type": "stream",
     "text": [
      "Kruskal-Wallis test statistic: 9.506906098017225\n",
      "p-value: 0.00862187199570827\n"
     ]
    }
   ],
   "source": [
    "#doing the KW test without outiers based on 2 standard deviations\n",
    "alpha_ = [cleaned_group_a, cleaned_group_b, cleaned_group_c]\n",
    "\n",
    "# Perform Kruskal-Wallis test\n",
    "statistic, p_value = stats.kruskal(*alpha_)\n",
    "\n",
    "# Print the results\n",
    "print(\"Kruskal-Wallis test statistic:\", statistic)\n",
    "print(\"p-value:\", p_value)"
   ]
  },
  {
   "cell_type": "code",
   "execution_count": 54,
   "id": "d9464639",
   "metadata": {},
   "outputs": [
    {
     "name": "stdout",
     "output_type": "stream",
     "text": [
      "Pairwise Comparison (Dunn's test) Results:\n",
      "          1         2         3\n",
      "1  1.000000  0.501824  0.028879\n",
      "2  0.501824  1.000000  0.022375\n",
      "3  0.028879  0.022375  1.000000\n"
     ]
    }
   ],
   "source": [
    "posthoc_results = sp.posthoc_dunn(alpha_, p_adjust='holm')\n",
    "print(\"Pairwise Comparison (Dunn's test) Results:\")\n",
    "print(posthoc_results)"
   ]
  },
  {
   "cell_type": "code",
   "execution_count": 55,
   "id": "5fcbb2f0",
   "metadata": {},
   "outputs": [
    {
     "name": "stdout",
     "output_type": "stream",
     "text": [
      "Observed Test Statistic: 9.506906098017225\n",
      "Permutation Test p-value: 0.0074\n"
     ]
    }
   ],
   "source": [
    "#permutations for the KW test after removing outliers\n",
    "\n",
    "\n",
    "observed_statistic, p_value = stats.kruskal(cleaned_group_a, cleaned_group_b, cleaned_group_c)\n",
    "import numpy as np\n",
    "\n",
    "# Combine the groups into a single array\n",
    "combined_data = np.concatenate([cleaned_group_a, cleaned_group_b, cleaned_group_c])\n",
    "\n",
    "# Define the number of permutations\n",
    "n_permutations = 10000\n",
    "\n",
    "# Initialize an array to store the permuted test statistics\n",
    "permuted_statistics = np.zeros(n_permutations)\n",
    "\n",
    "# Perform the permutation test\n",
    "for i in range(n_permutations):\n",
    "    # Randomly permute the group labels\n",
    "    np.random.shuffle(combined_data)\n",
    "    \n",
    "    # Calculate the test statistic for the current permutation\n",
    "    permuted_statistic, _ = stats.kruskal(\n",
    "        combined_data[:len(cleaned_group_a)],\n",
    "        combined_data[len(cleaned_group_a):len(cleaned_group_a) + len(cleaned_group_b)],\n",
    "        combined_data[len(cleaned_group_a) + len(cleaned_group_b):]\n",
    "    )\n",
    "    \n",
    "    # Store the permuted test statistic\n",
    "    permuted_statistics[i] = permuted_statistic\n",
    "    \n",
    "# Calculate the p-value\n",
    "p_value_permutation = np.sum(permuted_statistics >= observed_statistic) / n_permutations\n",
    "\n",
    "print(\"Observed Test Statistic:\", observed_statistic)\n",
    "print(\"Permutation Test p-value:\", p_value_permutation)\n"
   ]
  },
  {
   "cell_type": "code",
   "execution_count": 58,
   "id": "5de45706",
   "metadata": {},
   "outputs": [
    {
     "data": {
      "text/plain": [
       "(2.370428202125, 2.5498716390714287, 2.707472722238095)"
      ]
     },
     "execution_count": 58,
     "metadata": {},
     "output_type": "execute_result"
    }
   ],
   "source": [
    "np.mean(alphaRAlgos),np.mean(alphaRCrypto),np.mean(alphaRToken)"
   ]
  },
  {
   "cell_type": "code",
   "execution_count": 59,
   "id": "491282d8",
   "metadata": {},
   "outputs": [
    {
     "data": {
      "text/plain": [
       "(2.5021175214999998, 2.5195933975, 2.675667146)"
      ]
     },
     "execution_count": 59,
     "metadata": {},
     "output_type": "execute_result"
    }
   ],
   "source": [
    "np.median(alphaRAlgos), np.median(alphaRCrypto), np.median(alphaRToken)"
   ]
  },
  {
   "cell_type": "code",
   "execution_count": 60,
   "id": "4cb48f9a",
   "metadata": {},
   "outputs": [
    {
     "data": {
      "text/plain": [
       "(2.4407248865714286, 2.5021561477777783, 2.7611977094)"
      ]
     },
     "execution_count": 60,
     "metadata": {},
     "output_type": "execute_result"
    }
   ],
   "source": [
    "np.mean(cleaned_group_a),np.mean(cleaned_group_b),np.mean(cleaned_group_c)"
   ]
  },
  {
   "cell_type": "code",
   "execution_count": 61,
   "id": "5f12ecc3",
   "metadata": {},
   "outputs": [
    {
     "data": {
      "text/plain": [
       "(2.503267325, 2.518499956, 2.677039639)"
      ]
     },
     "execution_count": 61,
     "metadata": {},
     "output_type": "execute_result"
    }
   ],
   "source": [
    "np.median(cleaned_group_a), np.median(cleaned_group_b), np.median(cleaned_group_c)"
   ]
  },
  {
   "cell_type": "code",
   "execution_count": 67,
   "id": "daac919f",
   "metadata": {},
   "outputs": [
    {
     "data": {
      "text/plain": [
       "0     3.007681\n",
       "1     3.229048\n",
       "2     2.517822\n",
       "3     3.259076\n",
       "4     2.536018\n",
       "5     2.754598\n",
       "7     2.527774\n",
       "8     2.549149\n",
       "9     3.033552\n",
       "10    2.016630\n",
       "11    2.675667\n",
       "12    2.539631\n",
       "13    2.610879\n",
       "14    2.945869\n",
       "15    2.880516\n",
       "16    3.334471\n",
       "17    2.583397\n",
       "18    3.223455\n",
       "19    2.320308\n",
       "20    2.678412\n",
       "Name: alpha, dtype: float64"
      ]
     },
     "execution_count": 67,
     "metadata": {},
     "output_type": "execute_result"
    }
   ],
   "source": [
    "cleaned_group_c"
   ]
  },
  {
   "cell_type": "code",
   "execution_count": 66,
   "id": "3b18751b",
   "metadata": {},
   "outputs": [
    {
     "data": {
      "text/plain": [
       "0     3.007681\n",
       "1     3.229048\n",
       "2     2.517822\n",
       "3     3.259076\n",
       "4     2.536018\n",
       "5     2.754598\n",
       "6     1.632973\n",
       "7     2.527774\n",
       "8     2.549149\n",
       "9     3.033552\n",
       "10    2.016630\n",
       "11    2.675667\n",
       "12    2.539631\n",
       "13    2.610879\n",
       "14    2.945869\n",
       "15    2.880516\n",
       "16    3.334471\n",
       "17    2.583397\n",
       "18    3.223455\n",
       "19    2.320308\n",
       "20    2.678412\n",
       "Name: alpha, dtype: float64"
      ]
     },
     "execution_count": 66,
     "metadata": {},
     "output_type": "execute_result"
    }
   ],
   "source": [
    "alphaRToken"
   ]
  },
  {
   "cell_type": "code",
   "execution_count": null,
   "id": "4972e416",
   "metadata": {},
   "outputs": [],
   "source": []
  }
 ],
 "metadata": {
  "kernelspec": {
   "display_name": "Python 3",
   "language": "python",
   "name": "python3"
  },
  "language_info": {
   "codemirror_mode": {
    "name": "ipython",
    "version": 3
   },
   "file_extension": ".py",
   "mimetype": "text/x-python",
   "name": "python",
   "nbconvert_exporter": "python",
   "pygments_lexer": "ipython3",
   "version": "3.8.8"
  }
 },
 "nbformat": 4,
 "nbformat_minor": 5
}
