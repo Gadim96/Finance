{
 "cells": [
  {
   "cell_type": "code",
   "execution_count": 21,
   "id": "555868fc",
   "metadata": {},
   "outputs": [],
   "source": [
    "import pandas as pd\n",
    "import numpy as np\n",
    "import datetime as dt\n",
    "from pandas_datareader import data as pdr\n",
    "from scipy.stats import norm, t\n",
    "import matplotlib.pyplot as plt\n",
    "import yfinance as yf"
   ]
  },
  {
   "cell_type": "code",
   "execution_count": 28,
   "id": "e7e0f6a6",
   "metadata": {},
   "outputs": [],
   "source": [
    "# Import data\n",
    "def getData(stocks, period):\n",
    "    stockData = yf.download(stocks, period = period)\n",
    "    stockData = stockData['Close']\n",
    "    returns = stockData.pct_change()\n",
    "    meanReturns = returns.mean()\n",
    "    covMatrix = returns.cov()\n",
    "    return returns, meanReturns, covMatrix"
   ]
  },
  {
   "cell_type": "code",
   "execution_count": 17,
   "id": "a8e78899",
   "metadata": {},
   "outputs": [],
   "source": [
    "# Portfolio Performance\n",
    "def portfolioPerformance(weights, meanReturns, covMatrix, Time):\n",
    "    returns = np.sum(meanReturns*weights)*Time\n",
    "    std = np.sqrt( np.dot(weights.T, np.dot(covMatrix, weights)) ) * np.sqrt(Time)\n",
    "    return returns, std"
   ]
  },
  {
   "cell_type": "code",
   "execution_count": 36,
   "id": "ec838699",
   "metadata": {},
   "outputs": [],
   "source": [
    "stockList = [\"AAPL\",\"TSLA\", \"MSFT\", \"GOOG\", \"NFLX\"]\n",
    "period = \"2y\""
   ]
  },
  {
   "cell_type": "code",
   "execution_count": 37,
   "id": "62af163e",
   "metadata": {},
   "outputs": [
    {
     "name": "stderr",
     "output_type": "stream",
     "text": [
      "[*********************100%%**********************]  5 of 5 completed\n"
     ]
    }
   ],
   "source": [
    "returns, meanReturns, covMatrix = getData(stockList, period)\n",
    "returns = returns.dropna()\n",
    "\n",
    "weights = np.random.random(len(returns.columns))\n",
    "weights /= np.sum(weights)\n",
    "\n",
    "returns['portfolio'] = returns.dot(weights)"
   ]
  },
  {
   "cell_type": "code",
   "execution_count": 45,
   "id": "661a0fe7",
   "metadata": {},
   "outputs": [],
   "source": [
    "def historical_var(returns, alpha = 5):\n",
    "    #takes in a pandas dataframe of returns and returns the percentile of distribution at alpha level of confidence\n",
    "    if isinstance(returns, pd.Series):\n",
    "        return np.percentile(returns, alpha)\n",
    "    elif isinstance (returns, pd.DataFrame):\n",
    "        return returns.aggregate(historical_var, alpha = 5)\n",
    "    \n",
    "    else:\n",
    "        raise TypeError(\"Returns must be dataframe or series\")"
   ]
  },
  {
   "cell_type": "code",
   "execution_count": 52,
   "id": "3e31c32f",
   "metadata": {},
   "outputs": [
    {
     "name": "stdout",
     "output_type": "stream",
     "text": [
      "Ticker\n",
      "AAPL        -0.024564\n",
      "GOOG        -0.026834\n",
      "MSFT        -0.024758\n",
      "NFLX        -0.031657\n",
      "TSLA        -0.056340\n",
      "portfolio   -0.027347\n",
      "dtype: float64\n"
     ]
    }
   ],
   "source": [
    "print(historical_var(returns, alpha = 5))"
   ]
  },
  {
   "cell_type": "code",
   "execution_count": 50,
   "id": "3119dc70",
   "metadata": {},
   "outputs": [],
   "source": [
    "def historical_c_var(returns, alpha = 5):\n",
    "    #Output is conditional VAR\n",
    "    if isinstance(returns, pd.Series):\n",
    "        belowVar = returns <= historical_var(returns, alpha = alpha)\n",
    "        return returns[belowVar].mean()\n",
    "    \n",
    "    elif isinstance (returns, pd.DataFrame):\n",
    "        return returns.aggregate(historical_c_var, alpha = 5)\n",
    "    \n",
    "    else:\n",
    "        raise TypeError(\"Returns must be dataframe or series\")\n",
    "    "
   ]
  },
  {
   "cell_type": "code",
   "execution_count": 51,
   "id": "ab5c3a80",
   "metadata": {},
   "outputs": [
    {
     "name": "stdout",
     "output_type": "stream",
     "text": [
      "Ticker\n",
      "AAPL        -0.034643\n",
      "GOOG        -0.044508\n",
      "MSFT        -0.033871\n",
      "NFLX        -0.049184\n",
      "TSLA        -0.077689\n",
      "portfolio   -0.037819\n",
      "dtype: float64\n"
     ]
    }
   ],
   "source": [
    "print(historical_c_var(returns, alpha = 5))"
   ]
  },
  {
   "cell_type": "code",
   "execution_count": 57,
   "id": "6507100e",
   "metadata": {},
   "outputs": [],
   "source": [
    "time = 1\n",
    "VaR = -historical_var(returns, alpha = 5) * np.sqrt(time)\n",
    "CVaR = -historical_c_var(returns, alpha = 5) * np.sqrt(time)\n",
    "pRet, pStd = portfolioPerformance(weights, meanReturns, covMatrix, time)"
   ]
  },
  {
   "cell_type": "code",
   "execution_count": 58,
   "id": "02561f40",
   "metadata": {},
   "outputs": [
    {
     "name": "stdout",
     "output_type": "stream",
     "text": [
      "Expected Return:  868.01\n",
      "VaR at 5%:  Ticker\n",
      "AAPL         24563.89\n",
      "GOOG         26833.54\n",
      "MSFT         24758.25\n",
      "NFLX         31656.75\n",
      "TSLA         56339.75\n",
      "portfolio    27347.06\n",
      "dtype: float64\n",
      "CVaR at 5%:  Ticker\n",
      "AAPL         34643.10\n",
      "GOOG         44508.10\n",
      "MSFT         33871.44\n",
      "NFLX         49183.68\n",
      "TSLA         77689.21\n",
      "portfolio    37819.25\n",
      "dtype: float64\n"
     ]
    }
   ],
   "source": [
    "investment = 1000000\n",
    "print(\"Expected Return: \", round(investment * pRet,2))\n",
    "print(\"VaR at 5%: \", round(investment * VaR,2))\n",
    "print(\"CVaR at 5%: \", round(investment * CVaR,2))"
   ]
  },
  {
   "cell_type": "code",
   "execution_count": null,
   "id": "e4c5c7db",
   "metadata": {},
   "outputs": [],
   "source": []
  }
 ],
 "metadata": {
  "kernelspec": {
   "display_name": "Python 3",
   "language": "python",
   "name": "python3"
  },
  "language_info": {
   "codemirror_mode": {
    "name": "ipython",
    "version": 3
   },
   "file_extension": ".py",
   "mimetype": "text/x-python",
   "name": "python",
   "nbconvert_exporter": "python",
   "pygments_lexer": "ipython3",
   "version": "3.8.8"
  }
 },
 "nbformat": 4,
 "nbformat_minor": 5
}
