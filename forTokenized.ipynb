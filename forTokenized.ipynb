{
 "cells": [
  {
   "cell_type": "code",
   "execution_count": 1,
   "id": "66d1a854",
   "metadata": {},
   "outputs": [],
   "source": [
    "import pandas as pd\n",
    "import os\n",
    "import numpy as np\n",
    "import scipy as sc\n",
    "import matplotlib as mpl\n",
    "import matplotlib.pyplot as plt\n",
    "import powerlaw a\n",
    "from scipy import stats"
   ]
  },
  {
   "cell_type": "code",
   "execution_count": 2,
   "id": "0ae9d9b9",
   "metadata": {},
   "outputs": [],
   "source": [
    "directory = '/Users/gadimg/Library/Mobile Documents/com~apple~CloudDocs/PhD dis/second/SCoins/TokenizedFiat'\n"
   ]
  },
  {
   "cell_type": "code",
   "execution_count": 3,
   "id": "e1d97a78",
   "metadata": {},
   "outputs": [],
   "source": [
    "combined_data_Token = pd.DataFrame()"
   ]
  },
  {
   "cell_type": "code",
   "execution_count": 4,
   "id": "1a456db1",
   "metadata": {},
   "outputs": [],
   "source": [
    "#changing data structure for better readability\n",
    "for filename in os.listdir(directory):\n",
    "    if filename.endswith('.csv'):\n",
    "        file_path = os.path.join(directory, filename)\n",
    "        stock_name = filename[:-4]  # Extract stock name from the file name\n",
    "\n",
    "        # Read the CSV file and append the stock name as a new column\n",
    "        df = pd.read_csv(file_path)\n",
    "        df['Stock'] = stock_name\n",
    "\n",
    "        # Append the data to the combined DataFrame\n",
    "        combined_data_Token = combined_data_Token.append(df, ignore_index=True)"
   ]
  },
  {
   "cell_type": "code",
   "execution_count": null,
   "id": "74cf51db",
   "metadata": {},
   "outputs": [],
   "source": [
    "#combined_data_Gold=combined_data\n",
    "#combined_data_Gold = pd.read_csv('/Users/gadimg/Library/Mobile Documents/com~apple~CloudDocs/PhD dis/second/SCoins/combined_data_Gold.csv')\n",
    "combined_data_Token.to_csv('/Users/gadimg/Library/Mobile Documents/com~apple~CloudDocs/PhD dis/second/SCoins/combined_data_Token.csv', index=False)"
   ]
  },
  {
   "cell_type": "code",
   "execution_count": 5,
   "id": "039a8a08",
   "metadata": {},
   "outputs": [],
   "source": [
    "#adding realized daily returns function\n",
    "def calculate_daily_return(group):\n",
    "    group['Realized Vol'] = np.sqrt(365) * np.sqrt(np.log(group['High']/group['Close']) * np.log(group['High']/group['Open']) + np.log(group['Low']/group['Close']) * np.log(group['Low']/group['Open']))\n",
    "    return group"
   ]
  },
  {
   "cell_type": "code",
   "execution_count": 6,
   "id": "07a37d51",
   "metadata": {},
   "outputs": [],
   "source": [
    "combined_data_Token = combined_data_Token.groupby('Stock').apply(calculate_daily_return)"
   ]
  },
  {
   "cell_type": "code",
   "execution_count": 7,
   "id": "55415f4f",
   "metadata": {},
   "outputs": [],
   "source": [
    "def calculate_kurtosis(data):\n",
    "    # Perform the kurtosis calculation on the 'high' column for each group\n",
    "    return data.kurtosis()\n",
    "\n",
    "    "
   ]
  },
  {
   "cell_type": "code",
   "execution_count": null,
   "id": "4040bc2b",
   "metadata": {},
   "outputs": [],
   "source": [
    "combined_data_Token.groupby('Stock')['Realized Vol'].describe()"
   ]
  },
  {
   "cell_type": "code",
   "execution_count": null,
   "id": "3151c7cd",
   "metadata": {},
   "outputs": [],
   "source": [
    "combined_data_Token.groupby('Stock')['Realized Vol'].apply(calculate_kurtosis).reset_index(name='kurtosis')"
   ]
  },
  {
   "cell_type": "code",
   "execution_count": 11,
   "id": "ebeab7f0",
   "metadata": {},
   "outputs": [
    {
     "data": {
      "text/plain": [
       "Open                0.525018\n",
       "High              585.148196\n",
       "Low                 0.498112\n",
       "Close               0.523388\n",
       "Adj Close           0.523388\n",
       "Volume          11577.589566\n",
       "Realized Vol     2324.149656\n",
       "dtype: float64"
      ]
     },
     "execution_count": 11,
     "metadata": {},
     "output_type": "execute_result"
    }
   ],
   "source": [
    "calculate_kurtosis(combined_data_Token.group)"
   ]
  },
  {
   "cell_type": "code",
   "execution_count": 4,
   "id": "a7822c4a",
   "metadata": {},
   "outputs": [],
   "source": [
    "usdc=pd.read_csv('/Users/gadimg/Library/Mobile Documents/com~apple~CloudDocs/PhD dis/second/SCoins/TokenizedFiat/USDC-USD.csv')"
   ]
  },
  {
   "cell_type": "code",
   "execution_count": null,
   "id": "803a7ef0",
   "metadata": {},
   "outputs": [],
   "source": [
    "usdc['High'].kurtosis()"
   ]
  },
  {
   "cell_type": "code",
   "execution_count": 8,
   "id": "f915cd62",
   "metadata": {},
   "outputs": [],
   "source": [
    "usdt=pd.read_csv('/Users/gadimg/Library/Mobile Documents/com~apple~CloudDocs/PhD dis/second/SCoins/TokenizedFiat/USDT-USD-Yahoo.csv')"
   ]
  },
  {
   "cell_type": "code",
   "execution_count": null,
   "id": "ccbbd4ea",
   "metadata": {},
   "outputs": [],
   "source": [
    "usdc['Date']=pd.to_datetime(usdc['Date'])\n",
    "usdc.set_index('Date', inplace=True)"
   ]
  },
  {
   "cell_type": "code",
   "execution_count": 9,
   "id": "9e8cdb32",
   "metadata": {},
   "outputs": [],
   "source": [
    "usdt['Date']=pd.to_datetime(usdt['Date'])\n",
    "usdt.set_index('Date', inplace=True)"
   ]
  },
  {
   "cell_type": "code",
   "execution_count": 2,
   "id": "66deafda",
   "metadata": {},
   "outputs": [],
   "source": [
    "usdc2=pd.read_csv('/Users/gadimg/Downloads/USDC-USD2.csv')"
   ]
  },
  {
   "cell_type": "code",
   "execution_count": 3,
   "id": "e885eb81",
   "metadata": {},
   "outputs": [],
   "source": [
    "usdc2['realized vol']= np.sqrt(365) * np.sqrt(np.log(usdc2['High']/usdc2['Close']) * np.log(usdc2['High']/usdc2['Open']) + np.log(usdc2['Low']/usdc2['Close']) * np.log(usdc2['Low']/usdc2['Open']))"
   ]
  },
  {
   "cell_type": "code",
   "execution_count": 11,
   "id": "053168a0",
   "metadata": {},
   "outputs": [],
   "source": [
    "usdt['realized vol']= np.sqrt(365) * np.sqrt(np.log(usdt['High']/usdt['Close']) * np.log(usdt['High']/usdt['Open']) + np.log(usdt['Low']/usdt['Close']) * np.log(usdt['Low']/usdt['Open']))"
   ]
  },
  {
   "cell_type": "code",
   "execution_count": 6,
   "id": "869beb27",
   "metadata": {},
   "outputs": [],
   "source": [
    "def calculate_alpha(data):\n",
    "    # Create empty arrays to store the results\n",
    "    all_x_min=data.unique()\n",
    "    x_min_values = []\n",
    "    alpha_values = []\n",
    "\n",
    "    # Iterate over each data point as x_min\n",
    "    for x_min in all_x_min:\n",
    "        # Filter the data points greater than or equal to x_min\n",
    "        filtered_data = data[data >= x_min]\n",
    "\n",
    "        # Calculate the sum of logarithms\n",
    "        log_sum = np.sum(np.log(filtered_data / x_min))\n",
    "\n",
    "        # Calculate alpha using the MLE formula\n",
    "        if log_sum != 0:\n",
    "            alpha = 1 + len(filtered_data) / log_sum\n",
    "        else:\n",
    "            alpha = np.nan\n",
    "\n",
    "        # Append the x_min and alpha values\n",
    "        x_min_values.append(x_min)\n",
    "        alpha_values.append(alpha)\n",
    "\n",
    "    return x_min_values, alpha_values\n",
    "\n",
    "\n",
    "\n"
   ]
  },
  {
   "cell_type": "code",
   "execution_count": 12,
   "id": "84b3a7e3",
   "metadata": {},
   "outputs": [
    {
     "data": {
      "image/png": "[encoded data removed]",
      "text/plain": [
       "<Figure size 576x144 with 1 Axes>"
      ]
     },
     "metadata": {
      "needs_background": "light"
     },
     "output_type": "display_data"
    }
   ],
   "source": [
    "# Calculate x_min and alpha values\n",
    "x_min_valuesUsdt, alpha_valuesUsdt = calculate_alpha(usdt['realized vol'])\n",
    "\n",
    "# Set the figure size\n",
    "plt.figure(figsize=(8, 2))  # Adjust the values as per your preference\n",
    "\n",
    "# Plot the x_min and alpha values\n",
    "plt.plot(x_min_valuesUsdt, alpha_valuesUsdt, 'bo')\n",
    "plt.xlabel('x_min')\n",
    "plt.ylabel('Alpha')\n",
    "plt.title('x_min vs. Alpha')\n",
    "\n",
    "# Adjust the aspect ratio of the plot\n",
    "plt.gca().set_aspect('auto')\n",
    "\n",
    "plt.show()"
   ]
  },
  {
   "cell_type": "code",
   "execution_count": 7,
   "id": "15b8d0b4",
   "metadata": {
    "scrolled": false
   },
   "outputs": [
    {
     "data": {
      "image/png": "[encoded data removed]",
      "text/plain": [
       "<Figure size 720x432 with 1 Axes>"
      ]
     },
     "metadata": {
      "needs_background": "light"
     },
     "output_type": "display_data"
    }
   ],
   "source": [
    "x_min_valuesUsdc, alpha_valuesUsdc = calculate_alpha(usdc2['realized vol'])\n",
    "\n",
    "# Plot the x_min and alpha values\n",
    "plt.figure(figsize=(10, 6))\n",
    "plt.plot(x_min_valuesUsdc, alpha_valuesUsdc, 'bo')\n",
    "plt.xlabel('x_min')\n",
    "plt.ylabel('Alpha')\n",
    "plt.title('x_min vs. Alpha')\n",
    "plt.gca().set_aspect('auto')\n",
    "plt.show()\n"
   ]
  },
  {
   "cell_type": "code",
   "execution_count": null,
   "id": "b3e2be54",
   "metadata": {},
   "outputs": [],
   "source": [
    "btc=pd.read_csv('/Users/gadimg/Downloads/BTC-USD.csv')"
   ]
  },
  {
   "cell_type": "code",
   "execution_count": null,
   "id": "1fae1bf3",
   "metadata": {},
   "outputs": [],
   "source": [
    "btc['Date']=pd.to_datetime(btc['Date'])\n",
    "btc.set_index('Date', inplace=True)"
   ]
  },
  {
   "cell_type": "code",
   "execution_count": null,
   "id": "a425ff0a",
   "metadata": {},
   "outputs": [],
   "source": [
    "btc['realized vol']= np.sqrt(365) * np.sqrt(np.log(btc['High']/btc['Close']) * np.log(btc['High']/btc['Open']) + np.log(btc['Low']/btc['Close']) * np.log(btc['Low']/btc['Open']))"
   ]
  },
  {
   "cell_type": "code",
   "execution_count": null,
   "id": "3f3fbbbc",
   "metadata": {},
   "outputs": [],
   "source": [
    "parameter_range = { ‘alpha’: [2.3, None] }\n",
    "\n",
    "fit = powerlaw.Fit(data, parameter_range = parameter_range)"
   ]
  },
  {
   "cell_type": "code",
   "execution_count": null,
   "id": "c3f33b5f",
   "metadata": {},
   "outputs": [],
   "source": [
    "parameter_range = {'alpha':[2.5,3]}\n",
    "fit = powerlaw.Fit(data,parameter_range = parameter_range)"
   ]
  },
  {
   "cell_type": "code",
   "execution_count": null,
   "id": "19dee21a",
   "metadata": {},
   "outputs": [],
   "source": [
    " fit.power_law.alpha"
   ]
  },
  {
   "cell_type": "code",
   "execution_count": null,
   "id": "3e75ed39",
   "metadata": {},
   "outputs": [],
   "source": [
    "data = usdc2['realized vol']\n",
    "data = data.to_numpy()\n",
    "pl = powerlaw.Power_Law(data, xmin=0.26865300918922314, xmax=max(data))\n",
    "pl.alpha = 3.2133334450737054\n",
    "\n",
    "synthetic_data = pl.generate_random(len(data))\n",
    "\n",
    "# Perform the Kolmogorov-Smirnov (KS) goodness-of-fit test\n",
    "#result = powerlaw.power_law_test(data, synthetic_data)\n",
    "result = powerlaw.power_law_ks_distance(data, xmin= 0.18201581950541829, alpha=2.999676441053767)\n",
    "p_value = result.p\n",
    "\n",
    "# Print or analyze the p-value to determine the goodness of fit\n",
    "print(\"p-value:\", p_value)"
   ]
  },
  {
   "cell_type": "code",
   "execution_count": null,
   "id": "bd2a1abb",
   "metadata": {},
   "outputs": [],
   "source": [
    "index = (min(range(len(alpha_valuesUsdc)), key=lambda i: abs(alpha_valuesUsdc[i] - 3.5)))\n",
    "print(index)"
   ]
  },
  {
   "cell_type": "code",
   "execution_count": null,
   "id": "384da9e7",
   "metadata": {},
   "outputs": [],
   "source": [
    "alpha_valuesUsdc[155]"
   ]
  },
  {
   "cell_type": "code",
   "execution_count": null,
   "id": "e1879970",
   "metadata": {},
   "outputs": [],
   "source": [
    "x_min_valuesUsdc[37]"
   ]
  },
  {
   "cell_type": "code",
   "execution_count": null,
   "id": "44452cbb",
   "metadata": {},
   "outputs": [],
   "source": [
    "synthetic_data"
   ]
  },
  {
   "cell_type": "code",
   "execution_count": null,
   "id": "5f9be940",
   "metadata": {},
   "outputs": [],
   "source": [
    "resultSynthetic = powerlaw.power_law_ks_distance(synthetic_data, xmin= syntheticFit.xmin, alpha=syntheticFit.alpha)"
   ]
  },
  {
   "cell_type": "code",
   "execution_count": null,
   "id": "58e227d8",
   "metadata": {},
   "outputs": [],
   "source": [
    "syntheticFit=powerlaw.Fit(synthetic_data)"
   ]
  },
  {
   "cell_type": "code",
   "execution_count": null,
   "id": "c6507dac",
   "metadata": {},
   "outputs": [],
   "source": [
    "syntheticFit.xmin"
   ]
  },
  {
   "cell_type": "code",
   "execution_count": null,
   "id": "81f9b90d",
   "metadata": {},
   "outputs": [],
   "source": [
    "num_simulations = 1000\n",
    "ks_statistic_synthetic = []\n",
    "for _ in range(num_simulations):\n",
    "    # Generate synthetic data based on the specified alpha and xmin\n",
    "    synthetic_data = pl.generate_random(len(data))\n",
    "    \n",
    "    syntheticFit=powerlaw.Fit(synthetic_data)\n",
    "    # Calculate the KS statistic for the synthetic data\n",
    "    ks_statistic = powerlaw.power_law_ks_distance(synthetic_data, xmin= syntheticFit.xmin, alpha=syntheticFit.alpha)\n",
    "    ks_statistic_synthetic.append(ks_statistic)\n"
   ]
  },
  {
   "cell_type": "code",
   "execution_count": null,
   "id": "a2702b46",
   "metadata": {},
   "outputs": [],
   "source": [
    "powerlaw.Power_Law.generate_random??"
   ]
  },
  {
   "cell_type": "code",
   "execution_count": null,
   "id": "f99e89ad",
   "metadata": {},
   "outputs": [],
   "source": [
    "synthetic_data = pl.generate_random(len(data))"
   ]
  },
  {
   "cell_type": "code",
   "execution_count": null,
   "id": "bee05c4d",
   "metadata": {},
   "outputs": [],
   "source": [
    " syntheticFit=powerlaw.Fit(synthetic_data)\n",
    "    # Calculate the KS statistic for the synthe"
   ]
  },
  {
   "cell_type": "code",
   "execution_count": null,
   "id": "43e19a38",
   "metadata": {},
   "outputs": [],
   "source": [
    "count=0\n",
    "for i in range(len(ks_statistic_synthetic)):\n",
    "    if ks_statistic_synthetic[i]>result:\n",
    "        count+=1\n",
    "    else:\n",
    "        pass"
   ]
  },
  {
   "cell_type": "code",
   "execution_count": null,
   "id": "d5c67aa5",
   "metadata": {},
   "outputs": [],
   "source": [
    "count"
   ]
  },
  {
   "cell_type": "code",
   "execution_count": null,
   "id": "f9072174",
   "metadata": {},
   "outputs": [],
   "source": [
    "ksForUsdc=[]\n",
    "for i in range(len(x_min_valuesUsdc)):\n",
    "    ks_statistic = powerlaw.power_law_ks_distance(dataUsdc, xmin= x_min_valuesUsdc[i], alpha=alpha_valuesUsdc[i])\n",
    "    ksForUsdc.append(ks_statistic)"
   ]
  },
  {
   "cell_type": "code",
   "execution_count": null,
   "id": "1012e28e",
   "metadata": {},
   "outputs": [],
   "source": [
    "dataUsdc=usdc2['realized vol'].to_numpy()"
   ]
  },
  {
   "cell_type": "code",
   "execution_count": null,
   "id": "9d5f1009",
   "metadata": {},
   "outputs": [],
   "source": [
    "num_simulations = 1000\n",
    "ks_statistic_synthetic = []\n",
    "for _ in range(num_simulations):\n",
    "    # Generate synthetic data based on the specified alpha and xmin\n",
    "    synthetic_data = pl.generate_random(len(data))\n",
    "    #fitting synthetic\n",
    "    x_min_valuesUsdc, alpha_valuesUsdc = calculate_alpha(synthetic_data)\n",
    "    usdcAlphaXmin = dict(zip(x_min_valuesUsdc, alpha_valuesUsdc))\n",
    "    \n",
    "    ksForSynthetic=[]\n",
    "    for key, value in usdcAlphaXmin.items():\n",
    "        ks_statistic = powerlaw.power_law_ks_distance(dataUsdc, xmin= key, alpha=value)\n",
    "        ksForSynthetic.append(min(ks_statistic))\n",
    "    \n",
    "\n",
    "    # Append KS statistic for the synthetic data\n",
    "    \n",
    "    ks_statistic_synthetic.append(min(ksForSynthetic))\n"
   ]
  },
  {
   "cell_type": "code",
   "execution_count": null,
   "id": "52f587b0",
   "metadata": {},
   "outputs": [],
   "source": [
    "count=0\n",
    "for i in range(len(ks_statistic_synthetic)):\n",
    "    if ks_statistic_synthetic[i]>result:\n",
    "        count+=1\n",
    "    else:\n",
    "        pass"
   ]
  },
  {
   "cell_type": "code",
   "execution_count": null,
   "id": "303f499a",
   "metadata": {},
   "outputs": [],
   "source": [
    "count"
   ]
  },
  {
   "cell_type": "code",
   "execution_count": null,
   "id": "ddd68a6c",
   "metadata": {},
   "outputs": [],
   "source": [
    "#combining the alpha and xmin for usdc2 into a dictionary to see if speed improves\n",
    "usdcAlphaXmin = dict(zip(x_min_valuesUsdc, alpha_valuesUsdc))"
   ]
  },
  {
   "cell_type": "code",
   "execution_count": null,
   "id": "61aca7df",
   "metadata": {
    "scrolled": true
   },
   "outputs": [],
   "source": [
    "fit=powerlaw.Fit(synthetic_data)"
   ]
  },
  {
   "cell_type": "code",
   "execution_count": null,
   "id": "12c10f91",
   "metadata": {},
   "outputs": [],
   "source": [
    "fit.distribution_compare('power_law', 'lognormal', 'exponential')"
   ]
  },
  {
   "cell_type": "code",
   "execution_count": null,
   "id": "793eed6b",
   "metadata": {},
   "outputs": [],
   "source": [
    "fit=powerlaw.Fit(usdc2['realized vol'])"
   ]
  },
  {
   "cell_type": "code",
   "execution_count": null,
   "id": "3a3b81d3",
   "metadata": {},
   "outputs": [],
   "source": [
    "fit.xmin"
   ]
  },
  {
   "cell_type": "code",
   "execution_count": null,
   "id": "e950a132",
   "metadata": {},
   "outputs": [],
   "source": [
    "num_simulations = 1000\n",
    "ks_statistic_synthetic = []\n",
    "for _ in range(num_simulations):\n",
    "    # Generate synthetic data based on the specified alpha and xmin\n",
    "    synthetic_data = pl.generate_random(len(data))\n",
    "    #fitting synthetic\n",
    "    x_min_valuesUsdc, alpha_valuesUsdc = calculate_alpha(synthetic_data)\n",
    "    usdcAlphaXmin = dict(zip(x_min_valuesUsdc, alpha_valuesUsdc))\n",
    "    \n",
    "    ksForSynthetic=[]\n",
    "    #for key, value in usdcAlphaXmin.items():\n",
    "     #   ks_statistic = powerlaw.power_law_ks_distance(dataUsdc, xmin= key, alpha=value)\n",
    "      #  ksForSynthetic.append(ks_statistic)\n",
    "    #fit=powerlaw.Fit(synthetic_data)\n",
    "   # ks=fit.power_law.KS()\n",
    "    ksForSynthetic = [powerlaw.power_law_ks_distance(synthetic_data, xmin= key, alpha=value) for key, value in usdcAlphaXmin.items() ]\n",
    "    # Append KS statistic for the synthetic data\n",
    "    \n",
    "    ks_statistic_synthetic.append(min(ksForSynthetic))\n"
   ]
  },
  {
   "cell_type": "code",
   "execution_count": null,
   "id": "60c3a5f7",
   "metadata": {},
   "outputs": [],
   "source": [
    " ksForSynthetic = [powerlaw.power_law_ks_distance(dataUsdc, xmin= key, alpha=value) for key, value in usdcAlphaXmin.items() ]"
   ]
  },
  {
   "cell_type": "code",
   "execution_count": null,
   "id": "19263b03",
   "metadata": {},
   "outputs": [],
   "source": [
    "fit=powerlaw.Fit(usdc2['realized vol'])"
   ]
  },
  {
   "cell_type": "code",
   "execution_count": null,
   "id": "a0eba93b",
   "metadata": {},
   "outputs": [],
   "source": [
    "fit.distribution_compare('power_law', 'exponential')"
   ]
  },
  {
   "cell_type": "code",
   "execution_count": null,
   "id": "c403306a",
   "metadata": {},
   "outputs": [],
   "source": [
    "import plpva"
   ]
  },
  {
   "cell_type": "code",
   "execution_count": null,
   "id": "a5823aad",
   "metadata": {},
   "outputs": [],
   "source": [
    "result = plpva.plpva(usdc2['realized vol'], xmin=0.13073649575268584, vec=np.arange(1.50, 3.51, 0.01), reps=1000)"
   ]
  }
 ],
 "metadata": {
  "kernelspec": {
   "display_name": "Python 3",
   "language": "python",
   "name": "python3"
  },
  "language_info": {
   "codemirror_mode": {
    "name": "ipython",
    "version": 3
   },
   "file_extension": ".py",
   "mimetype": "text/x-python",
   "name": "python",
   "nbconvert_exporter": "python",
   "pygments_lexer": "ipython3",
   "version": "3.8.8"
  }
 },
 "nbformat": 4,
 "nbformat_minor": 5
}
